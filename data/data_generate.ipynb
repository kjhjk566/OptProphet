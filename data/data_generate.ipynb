{
 "cells": [
  {
   "cell_type": "code",
   "execution_count": 18,
   "id": "f35e2a9a",
   "metadata": {},
   "outputs": [],
   "source": [
    "import pandas as pd\n",
    "import numpy as np\n",
    "from datetime import datetime, timedelta\n",
    "\n",
    "# 时间起点\n",
    "start_time = datetime.now()\n",
    "\n",
    "# 生成10条数据\n",
    "data = []\n",
    "for i in range(100):\n",
    "    row = {\n",
    "        'timestamp': start_time + timedelta(seconds=i * 60),\n",
    "        'Current': round(np.random.uniform(10, 20), 2),\n",
    "        'Temperature': round(np.random.uniform(30, 70), 2),\n",
    "        'Voltage': round(np.random.uniform(3.0, 3.6), 2),\n",
    "        'CurrentTXPower': round(np.random.uniform(-2, 4), 2),\n",
    "        'CurrentRXPower': round(np.random.uniform(-5, 1), 2),\n",
    "        'CurrentMultiTXPower1': round(np.random.uniform(-2, 4), 2),\n",
    "        'CurrentMultiTXPower2': round(np.random.uniform(-2, 4), 2),\n",
    "        'CurrentMultiTXPower3': round(np.random.uniform(-2, 4), 2),\n",
    "        'CurrentMultiTXPower4': round(np.random.uniform(-2, 4), 2),\n",
    "        'CurrentMultiRXPower1': round(np.random.uniform(-5, 1), 2),\n",
    "        'CurrentMultiRXPower2': round(np.random.uniform(-5, 1), 2),\n",
    "        'CurrentMultiRXPower3': round(np.random.uniform(-5, 1), 2),\n",
    "        'CurrentMultiRXPower4': round(np.random.uniform(-5, 1), 2),\n",
    "        'CurrentMultiBias1': round(np.random.uniform(5, 15), 2),\n",
    "        'CurrentMultiBias2': round(np.random.uniform(5, 15), 2),\n",
    "        'CurrentMultiBias3': round(np.random.uniform(5, 15), 2),\n",
    "        'CurrentMultiBias4': round(np.random.uniform(5, 15), 2),\n",
    "        'subhealth_label': 0 if i>70 else 0,\n",
    "        'failure_type':0 if i>70 else 0,\n",
    "    }\n",
    "    data.append(row)\n",
    "\n",
    "# 创建DataFrame\n",
    "df = pd.DataFrame(data)\n",
    "\n",
    "# 显示数据\n",
    "df.to_csv('/Users/kuangjunhua/Desktop/华为开源代码/data/offline/hard/data.csv', index=False)"
   ]
  },
  {
   "cell_type": "code",
   "execution_count": 27,
   "id": "0f64f2db",
   "metadata": {},
   "outputs": [
    {
     "name": "stdout",
     "output_type": "stream",
     "text": [
      "    0      1     2     3     4     5     6     7     8     9     ...   \n",
      "0  15.37  66.52  3.03  1.24 -0.88  3.51   3.8  0.05  -1.7 -2.23  ...  \\\n",
      "1  17.46  58.72  3.53 -0.75 -4.18  2.15 -1.65  -0.7  1.36 -3.14  ...   \n",
      "2  10.23  67.92  3.53  0.43 -3.53 -1.53  1.57  3.12  2.83 -0.91  ...   \n",
      "3   16.2  44.41  3.42  1.23 -1.61  0.42 -1.03  2.67  3.41 -1.37  ...   \n",
      "4  17.55  54.39  3.52  2.59 -1.36  2.68 -0.96 -1.39  0.14 -1.16  ...   \n",
      "\n",
      "        2337       2338       2339       2340       2341       2342   \n",
      "0  56.912174  10.969796  38.249051  19.934925   9.060304  11.215871  \\\n",
      "1  55.855636  16.775708  37.137608  19.242469     9.2981  11.837238   \n",
      "2  67.804685   13.33013  49.725693  29.384167  14.426535  12.696573   \n",
      "3  76.602453   8.899104  57.863518  35.914318  18.637446  14.686133   \n",
      "4  74.682681  10.347309  55.413149  33.673544  16.675485  13.166751   \n",
      "\n",
      "        2343       2344 2345                        2346  \n",
      "0  18.356757  23.852569  0.0  2025-05-05 16:39:01.960928  \n",
      "1  17.749175  17.150592  0.0  2025-05-05 16:40:01.960928  \n",
      "2  17.423555  14.198074  0.0  2025-05-05 16:41:01.960928  \n",
      "3  18.702773  15.798549  0.0  2025-05-05 16:42:01.960928  \n",
      "4  17.325446  17.167766  0.0  2025-05-05 16:43:01.960928  \n",
      "\n",
      "[5 rows x 2347 columns]\n"
     ]
    }
   ],
   "source": [
    "\n",
    "with np.load('/Users/kuangjunhua/Desktop/华为开源代码/data/online_tsfel/hard/data.npz',allow_pickle=True) as offline_data:\n",
    "    df = offline_data['data']\n",
    "    df = pd.DataFrame(df)\n",
    "    print(df.head())"
   ]
  }
 ],
 "metadata": {
  "kernelspec": {
   "display_name": "Pytorch",
   "language": "python",
   "name": "python3"
  },
  "language_info": {
   "codemirror_mode": {
    "name": "ipython",
    "version": 3
   },
   "file_extension": ".py",
   "mimetype": "text/x-python",
   "name": "python",
   "nbconvert_exporter": "python",
   "pygments_lexer": "ipython3",
   "version": "3.9.16"
  }
 },
 "nbformat": 4,
 "nbformat_minor": 5
}
